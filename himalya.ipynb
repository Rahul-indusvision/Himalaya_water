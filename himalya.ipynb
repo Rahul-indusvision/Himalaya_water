{
 "cells": [
  {
   "cell_type": "code",
   "execution_count": 19,
   "id": "0261cadb",
   "metadata": {},
   "outputs": [
    {
     "name": "stdout",
     "output_type": "stream",
     "text": [
      "Processing completed. Processed images saved to: C:\\New folder\\Desktop\\segregated_top_left_defect\\processed\n"
     ]
    }
   ],
   "source": [
    "import cv2\n",
    "import numpy as np\n",
    "import matplotlib.pyplot as plt\n",
    "import os\n",
    "from glob import glob\n",
    "\n",
    "# Set the input folder and output folder\n",
    "input_folder = r\"C:\\New folder\\Desktop\\segregated_top_left_defect\\top_left_defect\"\n",
    "output_folder = r\"C:\\New folder\\Desktop\\segregated_top_left_defect\\processed\"\n",
    "\n",
    "# Create output folder if it doesn't exist\n",
    "os.makedirs(output_folder, exist_ok=True)\n",
    "\n",
    "# Get all BMP images in the folder\n",
    "image_paths = glob(os.path.join(input_folder, \"*.PNG\"))\n",
    "\n",
    "# Processing loop\n",
    "for image_path in image_paths:\n",
    "    # Read image\n",
    "    image = cv2.imread(image_path)\n",
    "    if image is None:\n",
    "        continue  # Skip if image couldn't be read\n",
    "\n",
    "    # Convert to grayscale\n",
    "    gray = cv2.cvtColor(image, cv2.COLOR_BGR2GRAY)\n",
    "\n",
    "    # Estimate background using morphological operations\n",
    "    kernel = cv2.getStructuringElement(cv2.MORPH_ELLIPSE, (15, 15))\n",
    "    background = cv2.morphologyEx(gray, cv2.MORPH_CLOSE, kernel)\n",
    "\n",
    "    # Subtract the background to enhance the foreground\n",
    "    shadow_removed = cv2.subtract(background, gray)\n",
    "\n",
    "    # Normalize the image to the full 0-255 range\n",
    "    shadow_removed = cv2.normalize(shadow_removed, None, 0, 255, cv2.NORM_MINMAX)\n",
    "\n",
    "    # Convert to 3-channel image\n",
    "    shadow_removed_color = cv2.cvtColor(shadow_removed, cv2.COLOR_GRAY2BGR)\n",
    "\n",
    "    # Get image dimensions\n",
    "    h, w = shadow_removed_color.shape[:2]\n",
    "\n",
    "    # Define polygon to cover top 1/4 of the image height\n",
    "    y_end = int(h * 0.28)\n",
    "    pts = np.array([\n",
    "        [0, 0],\n",
    "        [w, 0],\n",
    "        [w, y_end],\n",
    "        [0, y_end]\n",
    "    ], np.int32).reshape((-1, 1, 2))\n",
    "\n",
    "    # Fill the polygon with black\n",
    "    cv2.fillPoly(shadow_removed_color, [pts], color=(0, 0, 0))\n",
    "\n",
    "    # Save the processed image\n",
    "    filename = os.path.basename(image_path)\n",
    "    output_path = os.path.join(output_folder, f\"processed_{filename}\")\n",
    "    cv2.imwrite(output_path, shadow_removed_color)\n",
    "\n",
    "print(\"Processing completed. Processed images saved to:\", output_folder)\n"
   ]
  },
  {
   "cell_type": "code",
   "execution_count": null,
   "id": "2c05fc6f",
   "metadata": {},
   "outputs": [],
   "source": []
  }
 ],
 "metadata": {
  "kernelspec": {
   "display_name": "base",
   "language": "python",
   "name": "python3"
  },
  "language_info": {
   "codemirror_mode": {
    "name": "ipython",
    "version": 3
   },
   "file_extension": ".py",
   "mimetype": "text/x-python",
   "name": "python",
   "nbconvert_exporter": "python",
   "pygments_lexer": "ipython3",
   "version": "3.12.7"
  }
 },
 "nbformat": 4,
 "nbformat_minor": 5
}
