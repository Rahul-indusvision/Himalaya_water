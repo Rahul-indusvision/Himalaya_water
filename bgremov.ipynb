{
 "cells": [
  {
   "cell_type": "code",
   "execution_count": 5,
   "id": "019b515a",
   "metadata": {},
   "outputs": [
    {
     "name": "stdout",
     "output_type": "stream",
     "text": [
      "Collecting opencv-contrib-python\n",
      "  Downloading opencv_contrib_python-4.11.0.86-cp37-abi3-win_amd64.whl.metadata (20 kB)\n",
      "Requirement already satisfied: numpy>=1.21.2 in c:\\users\\admin\\anaconda3\\lib\\site-packages (from opencv-contrib-python) (1.26.4)\n",
      "Downloading opencv_contrib_python-4.11.0.86-cp37-abi3-win_amd64.whl (46.2 MB)\n",
      "   ---------------------------------------- 0.0/46.2 MB ? eta -:--:--\n",
      "    --------------------------------------- 0.8/46.2 MB 6.7 MB/s eta 0:00:07\n",
      "   -- ------------------------------------- 2.9/46.2 MB 8.8 MB/s eta 0:00:05\n",
      "   ---- ----------------------------------- 4.7/46.2 MB 9.2 MB/s eta 0:00:05\n",
      "   ----- ---------------------------------- 6.8/46.2 MB 9.5 MB/s eta 0:00:05\n",
      "   ------- -------------------------------- 8.4/46.2 MB 9.1 MB/s eta 0:00:05\n",
      "   --------- ------------------------------ 10.7/46.2 MB 9.6 MB/s eta 0:00:04\n",
      "   ----------- ---------------------------- 13.4/46.2 MB 10.0 MB/s eta 0:00:04\n",
      "   ------------- -------------------------- 15.7/46.2 MB 10.3 MB/s eta 0:00:03\n",
      "   --------------- ------------------------ 17.6/46.2 MB 10.2 MB/s eta 0:00:03\n",
      "   ----------------- ---------------------- 20.7/46.2 MB 10.6 MB/s eta 0:00:03\n",
      "   ------------------- -------------------- 23.1/46.2 MB 10.7 MB/s eta 0:00:03\n",
      "   ---------------------- ----------------- 25.7/46.2 MB 10.9 MB/s eta 0:00:02\n",
      "   ------------------------ --------------- 27.8/46.2 MB 10.8 MB/s eta 0:00:02\n",
      "   -------------------------- ------------- 30.7/46.2 MB 11.1 MB/s eta 0:00:02\n",
      "   ----------------------------- ---------- 33.8/46.2 MB 11.4 MB/s eta 0:00:02\n",
      "   -------------------------------- ------- 37.0/46.2 MB 11.7 MB/s eta 0:00:01\n",
      "   ---------------------------------- ----- 40.1/46.2 MB 11.9 MB/s eta 0:00:01\n",
      "   ------------------------------------- -- 43.0/46.2 MB 12.0 MB/s eta 0:00:01\n",
      "   ---------------------------------------  46.1/46.2 MB 12.2 MB/s eta 0:00:01\n",
      "   ---------------------------------------- 46.2/46.2 MB 11.9 MB/s eta 0:00:00\n",
      "Installing collected packages: opencv-contrib-python\n",
      "Successfully installed opencv-contrib-python-4.11.0.86\n"
     ]
    }
   ],
   "source": [
    "!pip install opencv-contrib-python\n"
   ]
  },
  {
   "cell_type": "code",
   "execution_count": 32,
   "id": "1af49f20",
   "metadata": {},
   "outputs": [
    {
     "name": "stdout",
     "output_type": "stream",
     "text": [
      "Processing completed. Processed images saved to: C:\\New folder\\Desktop\\out\n"
     ]
    }
   ],
   "source": [
    "import cv2\n",
    "import numpy as np\n",
    "import matplotlib.pyplot as plt\n",
    "import os\n",
    "from glob import glob\n",
    "\n",
    "# Set the input folder and output folder\n",
    "input_folder = r\"C:\\New folder\\Desktop\\img\"\n",
    "output_folder = r\"C:\\New folder\\Desktop\\out\"\n",
    "\n",
    "# Create output folder if it doesn't exist\n",
    "os.makedirs(output_folder, exist_ok=True)\n",
    "\n",
    "# Get all BMP images in the folder\n",
    "image_paths = glob(os.path.join(input_folder, \"*.BMP\"))\n",
    "\n",
    "# Processing loop\n",
    "for image_path in image_paths:\n",
    "    # Read image\n",
    "    image = cv2.imread(image_path)\n",
    "    if image is None:\n",
    "        continue  # Skip if image couldn't be read\n",
    "\n",
    "    # Convert to grayscale\n",
    "    gray = cv2.cvtColor(image, cv2.COLOR_BGR2GRAY)\n",
    "\n",
    "    # Estimate background using morphological operations\n",
    "    kernel = cv2.getStructuringElement(cv2.MORPH_ELLIPSE, (15, 15))\n",
    "    background = cv2.morphologyEx(gray, cv2.MORPH_CLOSE, kernel)\n",
    "\n",
    "    # Subtract the background to enhance the foreground\n",
    "    shadow_removed = cv2.subtract(background, gray)\n",
    "\n",
    "    # Normalize the image to the full 0-255 range\n",
    "    shadow_removed = cv2.normalize(shadow_removed, None, 0, 255, cv2.NORM_MINMAX)\n",
    "\n",
    "    # Convert to 3-channel image\n",
    "    shadow_removed_color = cv2.cvtColor(shadow_removed, cv2.COLOR_GRAY2BGR)\n",
    "\n",
    "    # Save the processed image\n",
    "    filename = os.path.basename(image_path)\n",
    "    output_path = os.path.join(output_folder, f\"processed_{filename}\")\n",
    "    cv2.imwrite(output_path, shadow_removed_color)\n",
    "\n",
    "print(\"Processing completed. Processed images saved to:\", output_folder)\n"
   ]
  },
  {
   "cell_type": "code",
   "execution_count": null,
   "id": "0b938b75",
   "metadata": {},
   "outputs": [],
   "source": []
  }
 ],
 "metadata": {
  "kernelspec": {
   "display_name": "base",
   "language": "python",
   "name": "python3"
  },
  "language_info": {
   "codemirror_mode": {
    "name": "ipython",
    "version": 3
   },
   "file_extension": ".py",
   "mimetype": "text/x-python",
   "name": "python",
   "nbconvert_exporter": "python",
   "pygments_lexer": "ipython3",
   "version": "3.12.7"
  }
 },
 "nbformat": 4,
 "nbformat_minor": 5
}
